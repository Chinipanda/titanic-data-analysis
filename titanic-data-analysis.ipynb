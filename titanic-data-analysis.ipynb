{
 "cells": [
  {
   "cell_type": "markdown",
   "id": "b043b1f0",
   "metadata": {
    "papermill": {
     "duration": 0.004447,
     "end_time": "2025-02-18T16:12:14.067430",
     "exception": false,
     "start_time": "2025-02-18T16:12:14.062983",
     "status": "completed"
    },
    "tags": []
   },
   "source": [
    "## **Importing Libraries**\n",
    "---"
   ]
  },
  {
   "cell_type": "code",
   "execution_count": 1,
   "id": "2161da8f",
   "metadata": {
    "execution": {
     "iopub.execute_input": "2025-02-18T16:12:14.077102Z",
     "iopub.status.busy": "2025-02-18T16:12:14.076755Z",
     "iopub.status.idle": "2025-02-18T16:12:17.244466Z",
     "shell.execute_reply": "2025-02-18T16:12:17.242867Z"
    },
    "papermill": {
     "duration": 3.17589,
     "end_time": "2025-02-18T16:12:17.247047",
     "exception": false,
     "start_time": "2025-02-18T16:12:14.071157",
     "status": "completed"
    },
    "tags": []
   },
   "outputs": [],
   "source": [
    "import pandas as pd\n",
    "import numpy as np\n",
    "import seaborn as sns\n",
    "import matplotlib.pyplot as plt\n",
    "import matplotlib.ticker as mtick\n",
    "import warnings"
   ]
  },
  {
   "cell_type": "markdown",
   "id": "f8404c1a",
   "metadata": {
    "papermill": {
     "duration": 0.00348,
     "end_time": "2025-02-18T16:12:17.254844",
     "exception": false,
     "start_time": "2025-02-18T16:12:17.251364",
     "status": "completed"
    },
    "tags": []
   },
   "source": [
    "## **Raw information**\n",
    "---"
   ]
  },
  {
   "cell_type": "code",
   "execution_count": 2,
   "id": "7f81bf86",
   "metadata": {
    "execution": {
     "iopub.execute_input": "2025-02-18T16:12:17.264603Z",
     "iopub.status.busy": "2025-02-18T16:12:17.263906Z",
     "iopub.status.idle": "2025-02-18T16:12:17.323591Z",
     "shell.execute_reply": "2025-02-18T16:12:17.322012Z"
    },
    "papermill": {
     "duration": 0.067212,
     "end_time": "2025-02-18T16:12:17.325945",
     "exception": false,
     "start_time": "2025-02-18T16:12:17.258733",
     "status": "completed"
    },
    "tags": []
   },
   "outputs": [
    {
     "name": "stdout",
     "output_type": "stream",
     "text": [
      "<class 'pandas.core.frame.DataFrame'>\n",
      "RangeIndex: 891 entries, 0 to 890\n",
      "Data columns (total 12 columns):\n",
      " #   Column       Non-Null Count  Dtype  \n",
      "---  ------       --------------  -----  \n",
      " 0   PassengerId  891 non-null    int64  \n",
      " 1   Survived     891 non-null    int64  \n",
      " 2   Pclass       891 non-null    int64  \n",
      " 3   Name         891 non-null    object \n",
      " 4   Sex          891 non-null    object \n",
      " 5   Age          714 non-null    float64\n",
      " 6   SibSp        891 non-null    int64  \n",
      " 7   Parch        891 non-null    int64  \n",
      " 8   Ticket       891 non-null    object \n",
      " 9   Fare         891 non-null    float64\n",
      " 10  Cabin        204 non-null    object \n",
      " 11  Embarked     889 non-null    object \n",
      "dtypes: float64(2), int64(5), object(5)\n",
      "memory usage: 83.7+ KB\n"
     ]
    }
   ],
   "source": [
    "df = pd.read_csv(\"/kaggle/input/titanic/train.csv\")\n",
    "df.info()"
   ]
  },
  {
   "cell_type": "markdown",
   "id": "55d8b163",
   "metadata": {
    "papermill": {
     "duration": 0.003448,
     "end_time": "2025-02-18T16:12:17.333562",
     "exception": false,
     "start_time": "2025-02-18T16:12:17.330114",
     "status": "completed"
    },
    "tags": []
   },
   "source": [
    "## **Statistic information**\n",
    "---"
   ]
  },
  {
   "cell_type": "code",
   "execution_count": 3,
   "id": "6b714586",
   "metadata": {
    "execution": {
     "iopub.execute_input": "2025-02-18T16:12:17.344681Z",
     "iopub.status.busy": "2025-02-18T16:12:17.344157Z",
     "iopub.status.idle": "2025-02-18T16:12:17.394727Z",
     "shell.execute_reply": "2025-02-18T16:12:17.393435Z"
    },
    "papermill": {
     "duration": 0.058944,
     "end_time": "2025-02-18T16:12:17.396812",
     "exception": false,
     "start_time": "2025-02-18T16:12:17.337868",
     "status": "completed"
    },
    "tags": []
   },
   "outputs": [
    {
     "data": {
      "text/html": [
       "<div>\n",
       "<style scoped>\n",
       "    .dataframe tbody tr th:only-of-type {\n",
       "        vertical-align: middle;\n",
       "    }\n",
       "\n",
       "    .dataframe tbody tr th {\n",
       "        vertical-align: top;\n",
       "    }\n",
       "\n",
       "    .dataframe thead th {\n",
       "        text-align: right;\n",
       "    }\n",
       "</style>\n",
       "<table border=\"1\" class=\"dataframe\">\n",
       "  <thead>\n",
       "    <tr style=\"text-align: right;\">\n",
       "      <th></th>\n",
       "      <th>PassengerId</th>\n",
       "      <th>Survived</th>\n",
       "      <th>Pclass</th>\n",
       "      <th>Age</th>\n",
       "      <th>SibSp</th>\n",
       "      <th>Parch</th>\n",
       "      <th>Fare</th>\n",
       "    </tr>\n",
       "  </thead>\n",
       "  <tbody>\n",
       "    <tr>\n",
       "      <th>count</th>\n",
       "      <td>891.000000</td>\n",
       "      <td>891.000000</td>\n",
       "      <td>891.000000</td>\n",
       "      <td>714.000000</td>\n",
       "      <td>891.000000</td>\n",
       "      <td>891.000000</td>\n",
       "      <td>891.000000</td>\n",
       "    </tr>\n",
       "    <tr>\n",
       "      <th>mean</th>\n",
       "      <td>446.000000</td>\n",
       "      <td>0.383838</td>\n",
       "      <td>2.308642</td>\n",
       "      <td>29.699118</td>\n",
       "      <td>0.523008</td>\n",
       "      <td>0.381594</td>\n",
       "      <td>32.204208</td>\n",
       "    </tr>\n",
       "    <tr>\n",
       "      <th>std</th>\n",
       "      <td>257.353842</td>\n",
       "      <td>0.486592</td>\n",
       "      <td>0.836071</td>\n",
       "      <td>14.526497</td>\n",
       "      <td>1.102743</td>\n",
       "      <td>0.806057</td>\n",
       "      <td>49.693429</td>\n",
       "    </tr>\n",
       "    <tr>\n",
       "      <th>min</th>\n",
       "      <td>1.000000</td>\n",
       "      <td>0.000000</td>\n",
       "      <td>1.000000</td>\n",
       "      <td>0.420000</td>\n",
       "      <td>0.000000</td>\n",
       "      <td>0.000000</td>\n",
       "      <td>0.000000</td>\n",
       "    </tr>\n",
       "    <tr>\n",
       "      <th>25%</th>\n",
       "      <td>223.500000</td>\n",
       "      <td>0.000000</td>\n",
       "      <td>2.000000</td>\n",
       "      <td>20.125000</td>\n",
       "      <td>0.000000</td>\n",
       "      <td>0.000000</td>\n",
       "      <td>7.910400</td>\n",
       "    </tr>\n",
       "    <tr>\n",
       "      <th>50%</th>\n",
       "      <td>446.000000</td>\n",
       "      <td>0.000000</td>\n",
       "      <td>3.000000</td>\n",
       "      <td>28.000000</td>\n",
       "      <td>0.000000</td>\n",
       "      <td>0.000000</td>\n",
       "      <td>14.454200</td>\n",
       "    </tr>\n",
       "    <tr>\n",
       "      <th>75%</th>\n",
       "      <td>668.500000</td>\n",
       "      <td>1.000000</td>\n",
       "      <td>3.000000</td>\n",
       "      <td>38.000000</td>\n",
       "      <td>1.000000</td>\n",
       "      <td>0.000000</td>\n",
       "      <td>31.000000</td>\n",
       "    </tr>\n",
       "    <tr>\n",
       "      <th>max</th>\n",
       "      <td>891.000000</td>\n",
       "      <td>1.000000</td>\n",
       "      <td>3.000000</td>\n",
       "      <td>80.000000</td>\n",
       "      <td>8.000000</td>\n",
       "      <td>6.000000</td>\n",
       "      <td>512.329200</td>\n",
       "    </tr>\n",
       "  </tbody>\n",
       "</table>\n",
       "</div>"
      ],
      "text/plain": [
       "       PassengerId    Survived      Pclass         Age       SibSp  \\\n",
       "count   891.000000  891.000000  891.000000  714.000000  891.000000   \n",
       "mean    446.000000    0.383838    2.308642   29.699118    0.523008   \n",
       "std     257.353842    0.486592    0.836071   14.526497    1.102743   \n",
       "min       1.000000    0.000000    1.000000    0.420000    0.000000   \n",
       "25%     223.500000    0.000000    2.000000   20.125000    0.000000   \n",
       "50%     446.000000    0.000000    3.000000   28.000000    0.000000   \n",
       "75%     668.500000    1.000000    3.000000   38.000000    1.000000   \n",
       "max     891.000000    1.000000    3.000000   80.000000    8.000000   \n",
       "\n",
       "            Parch        Fare  \n",
       "count  891.000000  891.000000  \n",
       "mean     0.381594   32.204208  \n",
       "std      0.806057   49.693429  \n",
       "min      0.000000    0.000000  \n",
       "25%      0.000000    7.910400  \n",
       "50%      0.000000   14.454200  \n",
       "75%      0.000000   31.000000  \n",
       "max      6.000000  512.329200  "
      ]
     },
     "execution_count": 3,
     "metadata": {},
     "output_type": "execute_result"
    }
   ],
   "source": [
    "df.describe()"
   ]
  },
  {
   "cell_type": "markdown",
   "id": "04faca86",
   "metadata": {
    "papermill": {
     "duration": 0.003666,
     "end_time": "2025-02-18T16:12:17.404997",
     "exception": false,
     "start_time": "2025-02-18T16:12:17.401331",
     "status": "completed"
    },
    "tags": []
   },
   "source": [
    "## **Data Cleaning**\n",
    "---"
   ]
  },
  {
   "cell_type": "code",
   "execution_count": 4,
   "id": "90666250",
   "metadata": {
    "execution": {
     "iopub.execute_input": "2025-02-18T16:12:17.414610Z",
     "iopub.status.busy": "2025-02-18T16:12:17.414137Z",
     "iopub.status.idle": "2025-02-18T16:12:17.423322Z",
     "shell.execute_reply": "2025-02-18T16:12:17.422007Z"
    },
    "papermill": {
     "duration": 0.01616,
     "end_time": "2025-02-18T16:12:17.425168",
     "exception": false,
     "start_time": "2025-02-18T16:12:17.409008",
     "status": "completed"
    },
    "tags": []
   },
   "outputs": [
    {
     "data": {
      "text/plain": [
       "PassengerId      0\n",
       "Survived         0\n",
       "Pclass           0\n",
       "Name             0\n",
       "Sex              0\n",
       "Age            177\n",
       "SibSp            0\n",
       "Parch            0\n",
       "Ticket           0\n",
       "Fare             0\n",
       "Cabin          687\n",
       "Embarked         2\n",
       "dtype: int64"
      ]
     },
     "execution_count": 4,
     "metadata": {},
     "output_type": "execute_result"
    }
   ],
   "source": [
    "df.isnull().sum()"
   ]
  },
  {
   "cell_type": "code",
   "execution_count": 5,
   "id": "76d6bed6",
   "metadata": {
    "execution": {
     "iopub.execute_input": "2025-02-18T16:12:17.435366Z",
     "iopub.status.busy": "2025-02-18T16:12:17.434928Z",
     "iopub.status.idle": "2025-02-18T16:12:17.452994Z",
     "shell.execute_reply": "2025-02-18T16:12:17.451771Z"
    },
    "papermill": {
     "duration": 0.025325,
     "end_time": "2025-02-18T16:12:17.454959",
     "exception": false,
     "start_time": "2025-02-18T16:12:17.429634",
     "status": "completed"
    },
    "tags": []
   },
   "outputs": [
    {
     "data": {
      "text/plain": [
       "PassengerId    0\n",
       "Survived       0\n",
       "Pclass         0\n",
       "Name           0\n",
       "Sex            0\n",
       "Age            0\n",
       "SibSp          0\n",
       "Parch          0\n",
       "Ticket         0\n",
       "Fare           0\n",
       "Embarked       0\n",
       "dtype: int64"
      ]
     },
     "execution_count": 5,
     "metadata": {},
     "output_type": "execute_result"
    }
   ],
   "source": [
    "df[\"Age\"] = df[\"Age\"].fillna(df[\"Age\"].median())\n",
    "df[\"Embarked\"] = df[\"Embarked\"].fillna(df[\"Embarked\"].mode()[0])\n",
    "df = df.drop(columns=[\"Cabin\"])\n",
    "warnings.filterwarnings(\"ignore\", category=FutureWarning)\n",
    "df.isnull().sum()"
   ]
  },
  {
   "cell_type": "markdown",
   "id": "9b492f7c",
   "metadata": {
    "papermill": {
     "duration": 0.003965,
     "end_time": "2025-02-18T16:12:17.463628",
     "exception": false,
     "start_time": "2025-02-18T16:12:17.459663",
     "status": "completed"
    },
    "tags": []
   },
   "source": [
    "## **Data Visualization**\n",
    "---"
   ]
  },
  {
   "cell_type": "markdown",
   "id": "77e5ae2f",
   "metadata": {
    "papermill": {
     "duration": 0.003901,
     "end_time": "2025-02-18T16:12:17.471933",
     "exception": false,
     "start_time": "2025-02-18T16:12:17.468032",
     "status": "completed"
    },
    "tags": []
   },
   "source": [
    "### Survival Rate by Gender"
   ]
  },
  {
   "cell_type": "code",
   "execution_count": 6,
   "id": "faae7ca1",
   "metadata": {
    "execution": {
     "iopub.execute_input": "2025-02-18T16:12:17.482688Z",
     "iopub.status.busy": "2025-02-18T16:12:17.482161Z",
     "iopub.status.idle": "2025-02-18T16:12:17.793235Z",
     "shell.execute_reply": "2025-02-18T16:12:17.791906Z"
    },
    "papermill": {
     "duration": 0.319125,
     "end_time": "2025-02-18T16:12:17.795593",
     "exception": false,
     "start_time": "2025-02-18T16:12:17.476468",
     "status": "completed"
    },
    "tags": []
   },
   "outputs": [
    {
     "data": {
      "image/png": "[encoded data removed]",
      "text/plain": [
       "<Figure size 640x480 with 1 Axes>"
      ]
     },
     "metadata": {},
     "output_type": "display_data"
    }
   ],
   "source": [
    "survival = df.groupby(\"Sex\")[\"Survived\"].mean() * 100\n",
    "grph = sns.barplot(x = survival.index, y = survival.values)\n",
    "for i in grph.patches:\n",
    "    grph.annotate(f'{i.get_height():.1f}%',\n",
    "                 (i.get_x() + i.get_width() / 2, i.get_height()),\n",
    "                 ha='center',va='bottom',fontsize='10')\n",
    "grph.yaxis.set_major_formatter(mtick.FuncFormatter(lambda y, _: f'{y:.0f}%'))\n",
    "\n",
    "plt.title(\"Survival Rate by Gender\")\n",
    "plt.xlabel(\"Gender\")\n",
    "plt.ylabel(\"Survival Rate\")\n",
    "plt.show()"
   ]
  },
  {
   "cell_type": "markdown",
   "id": "d759e9a7",
   "metadata": {
    "papermill": {
     "duration": 0.004652,
     "end_time": "2025-02-18T16:12:17.805587",
     "exception": false,
     "start_time": "2025-02-18T16:12:17.800935",
     "status": "completed"
    },
    "tags": []
   },
   "source": [
    "### Survival Rate by Passenger Class"
   ]
  },
  {
   "cell_type": "code",
   "execution_count": 7,
   "id": "16914a0a",
   "metadata": {
    "execution": {
     "iopub.execute_input": "2025-02-18T16:12:17.817440Z",
     "iopub.status.busy": "2025-02-18T16:12:17.816974Z",
     "iopub.status.idle": "2025-02-18T16:12:18.011016Z",
     "shell.execute_reply": "2025-02-18T16:12:18.009797Z"
    },
    "papermill": {
     "duration": 0.202926,
     "end_time": "2025-02-18T16:12:18.013728",
     "exception": false,
     "start_time": "2025-02-18T16:12:17.810802",
     "status": "completed"
    },
    "tags": []
   },
   "outputs": [
    {
     "data": {
      "image/png": "[encoded data removed]",
      "text/plain": [
       "<Figure size 640x480 with 1 Axes>"
      ]
     },
     "metadata": {},
     "output_type": "display_data"
    }
   ],
   "source": [
    "survival_rates = df.groupby(\"Pclass\")[\"Survived\"].mean() * 100\n",
    "ax = sns.barplot(x=survival_rates.index, y=survival_rates.values)\n",
    "for p in ax.patches:\n",
    "    ax.annotate(f'{p.get_height():.1f}%',\n",
    "                (p.get_x() + p.get_width() / 2, p.get_height()),\n",
    "                ha='center', va='bottom', fontsize=10)\n",
    "\n",
    "ax.yaxis.set_major_formatter(mtick.FuncFormatter(lambda y, _: f'{y:.0f}%'))\n",
    "\n",
    "plt.title(\"Survival Rate by Passenger Class\")\n",
    "plt.ylabel(\"Survival Rate\")\n",
    "plt.xlabel(\"Passenger Class\")\n",
    "plt.show()"
   ]
  },
  {
   "cell_type": "markdown",
   "id": "d22cd698",
   "metadata": {
    "papermill": {
     "duration": 0.005302,
     "end_time": "2025-02-18T16:12:18.028100",
     "exception": false,
     "start_time": "2025-02-18T16:12:18.022798",
     "status": "completed"
    },
    "tags": []
   },
   "source": [
    "### Age Distribution of Survivors vs Non-Survivors"
   ]
  },
  {
   "cell_type": "code",
   "execution_count": 8,
   "id": "facc55b9",
   "metadata": {
    "execution": {
     "iopub.execute_input": "2025-02-18T16:12:18.042575Z",
     "iopub.status.busy": "2025-02-18T16:12:18.042104Z",
     "iopub.status.idle": "2025-02-18T16:12:18.492154Z",
     "shell.execute_reply": "2025-02-18T16:12:18.491077Z"
    },
    "papermill": {
     "duration": 0.460346,
     "end_time": "2025-02-18T16:12:18.495194",
     "exception": false,
     "start_time": "2025-02-18T16:12:18.034848",
     "status": "completed"
    },
    "tags": []
   },
   "outputs": [
    {
     "data": {
      "image/png": "[encoded data removed]",
      "text/plain": [
       "<Figure size 800x500 with 1 Axes>"
      ]
     },
     "metadata": {},
     "output_type": "display_data"
    }
   ],
   "source": [
    "plt.figure(figsize=(8,5))\n",
    "sns.histplot(df[df[\"Survived\"] == 1][\"Age\"], color =\"green\", label=\"Survived\",kde=True)\n",
    "sns.histplot(df[df[\"Survived\"] == 0][\"Age\"], color=\"red\", label=\"Not Survived\", kde=True)\n",
    "plt.legend()\n",
    "plt.title(\"Age Distribution of Survivors vs Non-Survivors\")\n",
    "plt.show()"
   ]
  }
 ],
 "metadata": {
  "kaggle": {
   "accelerator": "none",
   "dataSources": [
    {
     "databundleVersionId": 26502,
     "sourceId": 3136,
     "sourceType": "competition"
    }
   ],
   "dockerImageVersionId": 30886,
   "isGpuEnabled": false,
   "isInternetEnabled": false,
   "language": "python",
   "sourceType": "notebook"
  },
  "kernelspec": {
   "display_name": "Python 3",
   "language": "python",
   "name": "python3"
  },
  "language_info": {
   "codemirror_mode": {
    "name": "ipython",
    "version": 3
   },
   "file_extension": ".py",
   "mimetype": "text/x-python",
   "name": "python",
   "nbconvert_exporter": "python",
   "pygments_lexer": "ipython3",
   "version": "3.10.12"
  },
  "papermill": {
   "default_parameters": {},
   "duration": 8.163187,
   "end_time": "2025-02-18T16:12:19.227584",
   "environment_variables": {},
   "exception": null,
   "input_path": "__notebook__.ipynb",
   "output_path": "__notebook__.ipynb",
   "parameters": {},
   "start_time": "2025-02-18T16:12:11.064397",
   "version": "2.6.0"
  }
 },
 "nbformat": 4,
 "nbformat_minor": 5
}
